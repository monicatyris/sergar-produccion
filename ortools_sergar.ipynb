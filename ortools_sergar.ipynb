{
  "cells": [
    {
      "cell_type": "code",
      "execution_count": 1,
      "metadata": {
        "colab": {
          "base_uri": "https://localhost:8080/"
        },
        "id": "t8QRlueImM9C",
        "outputId": "2f446434-b4ab-43aa-ee97-ce296b503ee7"
      },
      "outputs": [
        {
          "name": "stdout",
          "output_type": "stream",
          "text": [
            "Collecting ortools\n",
            "  Downloading ortools-9.12.4544-cp311-cp311-manylinux_2_27_x86_64.manylinux_2_28_x86_64.whl.metadata (3.3 kB)\n",
            "Collecting absl-py>=2.0.0 (from ortools)\n",
            "  Downloading absl_py-2.1.0-py3-none-any.whl.metadata (2.3 kB)\n",
            "Requirement already satisfied: numpy>=1.13.3 in /usr/local/lib/python3.11/dist-packages (from ortools) (2.0.2)\n",
            "Requirement already satisfied: pandas>=2.0.0 in /usr/local/lib/python3.11/dist-packages (from ortools) (2.2.2)\n",
            "Collecting protobuf<5.30,>=5.29.3 (from ortools)\n",
            "  Downloading protobuf-5.29.4-cp38-abi3-manylinux2014_x86_64.whl.metadata (592 bytes)\n",
            "Requirement already satisfied: immutabledict>=3.0.0 in /usr/local/lib/python3.11/dist-packages (from ortools) (4.2.1)\n",
            "Requirement already satisfied: python-dateutil>=2.8.2 in /usr/local/lib/python3.11/dist-packages (from pandas>=2.0.0->ortools) (2.8.2)\n",
            "Requirement already satisfied: pytz>=2020.1 in /usr/local/lib/python3.11/dist-packages (from pandas>=2.0.0->ortools) (2025.1)\n",
            "Requirement already satisfied: tzdata>=2022.7 in /usr/local/lib/python3.11/dist-packages (from pandas>=2.0.0->ortools) (2025.1)\n",
            "Requirement already satisfied: six>=1.5 in /usr/local/lib/python3.11/dist-packages (from python-dateutil>=2.8.2->pandas>=2.0.0->ortools) (1.17.0)\n",
            "Downloading ortools-9.12.4544-cp311-cp311-manylinux_2_27_x86_64.manylinux_2_28_x86_64.whl (24.9 MB)\n",
            "\u001b[2K   \u001b[90m━━━━━━━━━━━━━━━━━━━━━━━━━━━━━━━━━━━━━━━━\u001b[0m \u001b[32m24.9/24.9 MB\u001b[0m \u001b[31m39.6 MB/s\u001b[0m eta \u001b[36m0:00:00\u001b[0m\n",
            "\u001b[?25hDownloading absl_py-2.1.0-py3-none-any.whl (133 kB)\n",
            "\u001b[2K   \u001b[90m━━━━━━━━━━━━━━━━━━━━━━━━━━━━━━━━━━━━━━━━\u001b[0m \u001b[32m133.7/133.7 kB\u001b[0m \u001b[31m8.2 MB/s\u001b[0m eta \u001b[36m0:00:00\u001b[0m\n",
            "\u001b[?25hDownloading protobuf-5.29.4-cp38-abi3-manylinux2014_x86_64.whl (319 kB)\n",
            "\u001b[2K   \u001b[90m━━━━━━━━━━━━━━━━━━━━━━━━━━━━━━━━━━━━━━━━\u001b[0m \u001b[32m319.7/319.7 kB\u001b[0m \u001b[31m16.5 MB/s\u001b[0m eta \u001b[36m0:00:00\u001b[0m\n",
            "\u001b[?25hInstalling collected packages: protobuf, absl-py, ortools\n",
            "  Attempting uninstall: protobuf\n",
            "    Found existing installation: protobuf 4.25.6\n",
            "    Uninstalling protobuf-4.25.6:\n",
            "      Successfully uninstalled protobuf-4.25.6\n",
            "  Attempting uninstall: absl-py\n",
            "    Found existing installation: absl-py 1.4.0\n",
            "    Uninstalling absl-py-1.4.0:\n",
            "      Successfully uninstalled absl-py-1.4.0\n",
            "Successfully installed absl-py-2.1.0 ortools-9.12.4544 protobuf-5.29.4\n"
          ]
        }
      ],
      "source": [
        "!pip install ortools"
      ]
    },
    {
      "cell_type": "code",
      "execution_count": 1,
      "metadata": {},
      "outputs": [
        {
          "name": "stdout",
          "output_type": "stream",
          "text": [
            "load c:\\Users\\Monica\\Documents\\Kit Consulting\\Sergar\\desarrollo\\notebooks\\venv\\lib\\site-packages\\ortools\\.libs\\zlib1.dll...\n",
            "load c:\\Users\\Monica\\Documents\\Kit Consulting\\Sergar\\desarrollo\\notebooks\\venv\\lib\\site-packages\\ortools\\.libs\\abseil_dll.dll...\n",
            "load c:\\Users\\Monica\\Documents\\Kit Consulting\\Sergar\\desarrollo\\notebooks\\venv\\lib\\site-packages\\ortools\\.libs\\utf8_validity.dll...\n",
            "load c:\\Users\\Monica\\Documents\\Kit Consulting\\Sergar\\desarrollo\\notebooks\\venv\\lib\\site-packages\\ortools\\.libs\\re2.dll...\n",
            "load c:\\Users\\Monica\\Documents\\Kit Consulting\\Sergar\\desarrollo\\notebooks\\venv\\lib\\site-packages\\ortools\\.libs\\libprotobuf.dll...\n",
            "load c:\\Users\\Monica\\Documents\\Kit Consulting\\Sergar\\desarrollo\\notebooks\\venv\\lib\\site-packages\\ortools\\.libs\\highs.dll...\n",
            "load c:\\Users\\Monica\\Documents\\Kit Consulting\\Sergar\\desarrollo\\notebooks\\venv\\lib\\site-packages\\ortools\\.libs\\ortools.dll...\n"
          ]
        }
      ],
      "source": [
        "from ortools.sat.python import cp_model\n",
        "\n",
        "# Crear el modelo\n",
        "model = cp_model.CpModel()\n",
        "\n",
        "# Definir variables\n",
        "start_times = {}\n",
        "end_times = {}\n",
        "intervals = []\n",
        "makespan = model.NewIntVar(0, 100, \"makespan\")"
      ]
    },
    {
      "cell_type": "code",
      "execution_count": 2,
      "metadata": {
        "id": "x7XP7_XTskrT"
      },
      "outputs": [],
      "source": [
        "def planificar_produccion(pedidos):\n",
        "    model = cp_model.CpModel()\n",
        "\n",
        "    start_times = {}\n",
        "    end_times = {}\n",
        "    task_intervals = []\n",
        "    all_tasks = []\n",
        "\n",
        "    makespan = model.NewIntVar(0, 100, \"makespan\")\n",
        "\n",
        "    for pedido, data in pedidos.items():\n",
        "        prev_end = None\n",
        "        for i, (proceso, duracion) in enumerate(data[\"procesos\"]):\n",
        "            start = model.NewIntVar(0, data[\"fecha_entrega\"], f\"start_{pedido}_{i}\")\n",
        "            end = model.NewIntVar(0, data[\"fecha_entrega\"], f\"end_{pedido}_{i}\")\n",
        "            interval = model.NewIntervalVar(start, int(duracion), end, f\"interval_{pedido}_{i}\")\n",
        "\n",
        "            if prev_end is not None:\n",
        "                model.Add(start >= prev_end)\n",
        "\n",
        "            prev_end = end\n",
        "            start_times[(pedido, i)] = start\n",
        "            end_times[(pedido, i)] = end\n",
        "            task_intervals.append(interval)\n",
        "            all_tasks.append((pedido, i, start))\n",
        "\n",
        "    model.AddMaxEquality(makespan, [end_times[key] for key in end_times])\n",
        "    model.Minimize(makespan)\n",
        "\n",
        "    solver = cp_model.CpSolver()\n",
        "    status = solver.Solve(model)\n",
        "\n",
        "    if status == cp_model.OPTIMAL or status == cp_model.FEASIBLE:\n",
        "        plan = []\n",
        "        for (pedido, i), start in start_times.items():\n",
        "            plan.append((solver.Value(start), pedido, i, pedidos[pedido][\"nombre\"], pedidos[pedido][\"cantidad\"], pedidos[pedido][\"procesos\"][i][0]))\n",
        "\n",
        "        plan.sort()\n",
        "        print(\"Orden de producción:\")\n",
        "        for start_time, pedido, i, nombre_pedido, cantidad, nombre_proceso in plan:\n",
        "            print(f\"Pedido {pedido} ({nombre_pedido}, {cantidad} unidades), Proceso {i} ({nombre_proceso}): Comienza en {start_time}\")\n",
        "\n",
        "        print(f\"Tiempo total de producción: {solver.Value(makespan)}\")\n",
        "    else:\n",
        "        print(\"No se encontró solución\")"
      ]
    },
    {
      "cell_type": "code",
      "execution_count": 3,
      "metadata": {
        "colab": {
          "base_uri": "https://localhost:8080/"
        },
        "id": "S5nitXp_slsK",
        "outputId": "1edb8e58-7564-43ee-8127-1be9710a3043"
      },
      "outputs": [
        {
          "name": "stdout",
          "output_type": "stream",
          "text": [
            "Orden de producción:\n",
            "Pedido 1 (Placa aluminio de 60x75x100, 110 unidades), Proceso 0 (Dibujo): Comienza en 0\n",
            "Pedido 2 (Caja de madera 40x50x60, 50 unidades), Proceso 0 (Dibujo): Comienza en 0\n",
            "Pedido 2 (Caja de madera 40x50x60, 50 unidades), Proceso 1 (Corte): Comienza en 2\n",
            "Pedido 1 (Placa aluminio de 60x75x100, 110 unidades), Proceso 1 (Impresión): Comienza en 3\n",
            "Pedido 1 (Placa aluminio de 60x75x100, 110 unidades), Proceso 2 (Taladro): Comienza en 6\n",
            "Pedido 2 (Caja de madera 40x50x60, 50 unidades), Proceso 2 (Barniz): Comienza en 6\n",
            "Tiempo total de producción: 7\n"
          ]
        }
      ],
      "source": [
        "# Ejemplo de pedidos\n",
        "pedidos = {\n",
        "    1: {\"nombre\": \"Placa aluminio de 60x75x100\", \"cantidad\": 110, \"fecha_entrega\": 24, \"procesos\": [(\"Dibujo\", 3.648), (\"Impresión\", 3.648), (\"Taladro\", 1.824)]},\n",
        "    2: {\"nombre\": \"Caja de madera 40x50x60\", \"cantidad\": 50, \"fecha_entrega\": 30, \"procesos\": [(\"Dibujo\", 2), (\"Corte\", 4), (\"Barniz\", 1)]},\n",
        "}\n",
        "\n",
        "planificar_produccion(pedidos)"
      ]
    }
  ],
  "metadata": {
    "colab": {
      "provenance": []
    },
    "kernelspec": {
      "display_name": "venv",
      "language": "python",
      "name": "python3"
    },
    "language_info": {
      "codemirror_mode": {
        "name": "ipython",
        "version": 3
      },
      "file_extension": ".py",
      "mimetype": "text/x-python",
      "name": "python",
      "nbconvert_exporter": "python",
      "pygments_lexer": "ipython3",
      "version": "3.9.13"
    }
  },
  "nbformat": 4,
  "nbformat_minor": 0
}
